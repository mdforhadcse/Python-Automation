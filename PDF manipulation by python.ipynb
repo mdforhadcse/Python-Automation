{
 "cells": [
  {
   "cell_type": "markdown",
   "id": "1f4c67d1",
   "metadata": {},
   "source": [
    "### Reading PDF file"
   ]
  },
  {
   "cell_type": "code",
   "execution_count": 1,
   "id": "a7515a39",
   "metadata": {},
   "outputs": [],
   "source": [
    "import PyPDF2"
   ]
  },
  {
   "cell_type": "code",
   "execution_count": 6,
   "id": "1d9e392f",
   "metadata": {},
   "outputs": [],
   "source": [
    "file = open('sample.pdf', 'rb')\n",
    "pdfobj = PyPDF2.PdfFileReader(file)"
   ]
  },
  {
   "cell_type": "code",
   "execution_count": 4,
   "id": "0db0bdb0",
   "metadata": {},
   "outputs": [
    {
     "data": {
      "text/plain": [
       "2"
      ]
     },
     "execution_count": 4,
     "metadata": {},
     "output_type": "execute_result"
    }
   ],
   "source": [
    "pdfobj.numPages"
   ]
  },
  {
   "cell_type": "code",
   "execution_count": 7,
   "id": "f05555a2",
   "metadata": {},
   "outputs": [
    {
     "data": {
      "text/plain": [
       "False"
      ]
     },
     "execution_count": 7,
     "metadata": {},
     "output_type": "execute_result"
    }
   ],
   "source": [
    "pdfobj.isEncrypted"
   ]
  },
  {
   "cell_type": "code",
   "execution_count": 23,
   "id": "392b8475",
   "metadata": {},
   "outputs": [],
   "source": [
    "page1 = pdfobj.getPage(0)"
   ]
  },
  {
   "cell_type": "code",
   "execution_count": 24,
   "id": "6644a2ec",
   "metadata": {},
   "outputs": [
    {
     "data": {
      "text/plain": [
       "' A Simple PDF File  This is a small demonstration .pdf file -  just for use in the Virtual Mechanics tutorials. More text. And more  text. And more text. And more text. And more text.  And more text. And more text. And more text. And more text. And more  text. And more text. Boring, zzzzz. And more text. And more text. And  more text. And more text. And more text. And more text. And more text.  And more text. And more text.  And more text. And more text. And more text. And more text. And more  text. And more text. And more text. Even more. Continued on page 2 ...'"
      ]
     },
     "execution_count": 24,
     "metadata": {},
     "output_type": "execute_result"
    }
   ],
   "source": [
    "page1.extractText()"
   ]
  },
  {
   "cell_type": "code",
   "execution_count": 10,
   "id": "2a3e4605",
   "metadata": {},
   "outputs": [
    {
     "data": {
      "text/plain": [
       "dict_keys(['/Type', '/Parent', '/Resources', '/MediaBox', '/Contents'])"
      ]
     },
     "execution_count": 10,
     "metadata": {},
     "output_type": "execute_result"
    }
   ],
   "source": [
    "page1.keys()"
   ]
  },
  {
   "cell_type": "code",
   "execution_count": 11,
   "id": "f9cc2d40",
   "metadata": {},
   "outputs": [
    {
     "data": {
      "text/plain": [
       "RectangleObject([0, 0, 612, 792])"
      ]
     },
     "execution_count": 11,
     "metadata": {},
     "output_type": "execute_result"
    }
   ],
   "source": [
    "page1.cropBox"
   ]
  },
  {
   "cell_type": "code",
   "execution_count": 28,
   "id": "64aac9fe",
   "metadata": {},
   "outputs": [
    {
     "name": "stdout",
     "output_type": "stream",
     "text": [
      " A Simple PDF File  This is a small demonstration .pdf file -  just for use in the Virtual Mechanics tutorials. More text. And more  text. And more text. And more text. And more text.  And more text. And more text. And more text. And more text. And more  text. And more text. Boring, zzzzz. And more text. And more text. And  more text. And more text. And more text. And more text. And more text.  And more text. And more text.  And more text. And more text. And more text. And more text. And more  text. And more text. And more text. Even more. Continued on page 2 ...\n",
      " Simple PDF File 2  ...continued from page 1. Yet more text. And more text. And more text.  And more text. And more text. And more text. And more text. And more  text. Oh, how boring typing this stuff. But not as boring as watching  paint dry. And more text. And more text. And more text. And more text.  Boring.  More, a little more text. The end, and just as well. \n"
     ]
    }
   ],
   "source": [
    "for text in range(0, pdfobj.numPages):\n",
    "    text = pdfobj.getPage(text).extractText()\n",
    "    print(text)"
   ]
  },
  {
   "cell_type": "markdown",
   "id": "200cb0a0",
   "metadata": {},
   "source": [
    "### Writing PDF"
   ]
  },
  {
   "cell_type": "code",
   "execution_count": 30,
   "id": "2e1e8557",
   "metadata": {},
   "outputs": [],
   "source": [
    "pdfWriter = PyPDF2.PdfFileWriter"
   ]
  },
  {
   "cell_type": "code",
   "execution_count": 31,
   "id": "c58417fe",
   "metadata": {},
   "outputs": [
    {
     "ename": "TypeError",
     "evalue": "addPage() missing 1 required positional argument: 'page'",
     "output_type": "error",
     "traceback": [
      "\u001b[0;31m---------------------------------------------------------------------------\u001b[0m",
      "\u001b[0;31mTypeError\u001b[0m                                 Traceback (most recent call last)",
      "\u001b[0;32m/var/folders/hp/265srph925n8mbmg8mlh2y300000gn/T/ipykernel_3528/3029157018.py\u001b[0m in \u001b[0;36m<module>\u001b[0;34m\u001b[0m\n\u001b[0;32m----> 1\u001b[0;31m \u001b[0mpdfWriter\u001b[0m\u001b[0;34m.\u001b[0m\u001b[0maddPage\u001b[0m\u001b[0;34m(\u001b[0m\u001b[0mpage1\u001b[0m\u001b[0;34m)\u001b[0m\u001b[0;34m\u001b[0m\u001b[0;34m\u001b[0m\u001b[0m\n\u001b[0m",
      "\u001b[0;31mTypeError\u001b[0m: addPage() missing 1 required positional argument: 'page'"
     ]
    }
   ],
   "source": [
    "pdfWriter.addPage(page1)\n",
    "pdfWriter.write"
   ]
  },
  {
   "cell_type": "code",
   "execution_count": null,
   "id": "425a0ddf",
   "metadata": {},
   "outputs": [],
   "source": []
  }
 ],
 "metadata": {
  "kernelspec": {
   "display_name": "Python 3 (ipykernel)",
   "language": "python",
   "name": "python3"
  },
  "language_info": {
   "codemirror_mode": {
    "name": "ipython",
    "version": 3
   },
   "file_extension": ".py",
   "mimetype": "text/x-python",
   "name": "python",
   "nbconvert_exporter": "python",
   "pygments_lexer": "ipython3",
   "version": "3.9.7"
  }
 },
 "nbformat": 4,
 "nbformat_minor": 5
}
