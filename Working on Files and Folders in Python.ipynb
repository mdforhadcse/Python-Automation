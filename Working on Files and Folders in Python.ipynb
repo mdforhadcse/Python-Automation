{
 "cells": [
  {
   "cell_type": "code",
   "execution_count": 1,
   "id": "a02b2c31",
   "metadata": {},
   "outputs": [],
   "source": [
    "import os"
   ]
  },
  {
   "cell_type": "code",
   "execution_count": 2,
   "id": "b56cdd71",
   "metadata": {},
   "outputs": [
    {
     "data": {
      "text/plain": [
       "'/Volumes/GoogleDrive-109653845932847665469/My Drive/Projects/Web Scraping/Python-Automation'"
      ]
     },
     "execution_count": 2,
     "metadata": {},
     "output_type": "execute_result"
    }
   ],
   "source": [
    "os.getcwd()"
   ]
  },
  {
   "cell_type": "code",
   "execution_count": 3,
   "id": "d14378f7",
   "metadata": {},
   "outputs": [
    {
     "data": {
      "text/plain": [
       "'user/sbin/lib'"
      ]
     },
     "execution_count": 3,
     "metadata": {},
     "output_type": "execute_result"
    }
   ],
   "source": [
    "os.path.join('user', 'sbin', 'lib')"
   ]
  },
  {
   "cell_type": "code",
   "execution_count": 9,
   "id": "8264de89",
   "metadata": {},
   "outputs": [],
   "source": [
    "os.chdir('..')"
   ]
  },
  {
   "cell_type": "code",
   "execution_count": 10,
   "id": "400b36a5",
   "metadata": {},
   "outputs": [
    {
     "data": {
      "text/plain": [
       "'/Volumes/GoogleDrive-109653845932847665469/My Drive/Projects/Web Scraping'"
      ]
     },
     "execution_count": 10,
     "metadata": {},
     "output_type": "execute_result"
    }
   ],
   "source": [
    "os.getcwd()"
   ]
  },
  {
   "cell_type": "code",
   "execution_count": 14,
   "id": "7d19ccd7",
   "metadata": {},
   "outputs": [],
   "source": [
    "os.chdir('/Volumes/GoogleDrive-109653845932847665469/My Drive/Projects/Web Scraping/Python-Automation')"
   ]
  },
  {
   "cell_type": "code",
   "execution_count": 15,
   "id": "b85b9c7a",
   "metadata": {},
   "outputs": [
    {
     "data": {
      "text/plain": [
       "'/Volumes/GoogleDrive-109653845932847665469/My Drive/Projects/Web Scraping/Python-Automation'"
      ]
     },
     "execution_count": 15,
     "metadata": {},
     "output_type": "execute_result"
    }
   ],
   "source": [
    "os.getcwd()"
   ]
  },
  {
   "cell_type": "code",
   "execution_count": 16,
   "id": "f1651ffb",
   "metadata": {},
   "outputs": [],
   "source": [
    "os.mkdir('test folder')"
   ]
  },
  {
   "cell_type": "code",
   "execution_count": 17,
   "id": "dc567bfe",
   "metadata": {},
   "outputs": [
    {
     "name": "stdout",
     "output_type": "stream",
     "text": [
      "\u001b[34mImage Manipulation by selenium Webdriver and Python\u001b[m\u001b[m/\r\n",
      "\u001b[31mMicrosoft Excel Manipulation by Python.ipynb\u001b[m\u001b[m*\r\n",
      "\u001b[31mMicrosoft Word Manipulation by Python.ipynb\u001b[m\u001b[m*\r\n",
      "\u001b[31mNew.docx\u001b[m\u001b[m*\r\n",
      "\u001b[31mPDF manipulation by python.ipynb\u001b[m\u001b[m*\r\n",
      "\u001b[31mREADME.md\u001b[m\u001b[m*\r\n",
      "\u001b[31mWorking on Files and Folders in Python.ipynb\u001b[m\u001b[m*\r\n",
      "\u001b[31msales.xlsx\u001b[m\u001b[m*\r\n",
      "\u001b[31msample.docx\u001b[m\u001b[m*\r\n",
      "\u001b[31msample.pdf\u001b[m\u001b[m*\r\n",
      "\u001b[34mtest folder\u001b[m\u001b[m/\r\n"
     ]
    }
   ],
   "source": [
    "ls"
   ]
  },
  {
   "cell_type": "code",
   "execution_count": 18,
   "id": "96b7d696",
   "metadata": {},
   "outputs": [
    {
     "data": {
      "text/plain": [
       "'/Volumes/GoogleDrive-109653845932847665469/My Drive/Projects/Web Scraping/Python-Automation/sample.pdf'"
      ]
     },
     "execution_count": 18,
     "metadata": {},
     "output_type": "execute_result"
    }
   ],
   "source": [
    "os.path.abspath('sample.pdf')"
   ]
  },
  {
   "cell_type": "code",
   "execution_count": 19,
   "id": "a5733f20",
   "metadata": {},
   "outputs": [
    {
     "data": {
      "text/plain": [
       "3028"
      ]
     },
     "execution_count": 19,
     "metadata": {},
     "output_type": "execute_result"
    }
   ],
   "source": [
    "os.path.getsize('sample.pdf')"
   ]
  },
  {
   "cell_type": "code",
   "execution_count": 20,
   "id": "ed14e8fe",
   "metadata": {},
   "outputs": [
    {
     "data": {
      "text/plain": [
       "['Microsoft Excel Manipulation by Python.ipynb',\n",
       " 'sales.xlsx',\n",
       " 'README.md',\n",
       " '.gitattributes',\n",
       " '.git',\n",
       " '.DS_Store',\n",
       " 'sample.docx',\n",
       " 'sample.pdf',\n",
       " 'Microsoft Word Manipulation by Python.ipynb',\n",
       " '.ipynb_checkpoints',\n",
       " 'New.docx',\n",
       " 'PDF manipulation by python.ipynb',\n",
       " 'Image Manipulation by selenium Webdriver and Python',\n",
       " 'Working on Files and Folders in Python.ipynb',\n",
       " 'test folder']"
      ]
     },
     "execution_count": 20,
     "metadata": {},
     "output_type": "execute_result"
    }
   ],
   "source": [
    "os.listdir('.')"
   ]
  },
  {
   "cell_type": "code",
   "execution_count": 21,
   "id": "8f83df82",
   "metadata": {},
   "outputs": [
    {
     "data": {
      "text/plain": [
       "True"
      ]
     },
     "execution_count": 21,
     "metadata": {},
     "output_type": "execute_result"
    }
   ],
   "source": [
    "os.path.exists('sample.pdf')"
   ]
  },
  {
   "cell_type": "code",
   "execution_count": 24,
   "id": "831b6833",
   "metadata": {},
   "outputs": [
    {
     "data": {
      "text/plain": [
       "False"
      ]
     },
     "execution_count": 24,
     "metadata": {},
     "output_type": "execute_result"
    }
   ],
   "source": [
    "os.path.exists('sample.txt')"
   ]
  },
  {
   "cell_type": "code",
   "execution_count": 25,
   "id": "206598e8",
   "metadata": {},
   "outputs": [
    {
     "data": {
      "text/plain": [
       "False"
      ]
     },
     "execution_count": 25,
     "metadata": {},
     "output_type": "execute_result"
    }
   ],
   "source": [
    "os.path.isfile('sample.txt')"
   ]
  },
  {
   "cell_type": "markdown",
   "id": "8ca0b8b9",
   "metadata": {},
   "source": [
    "## Reading and Writing"
   ]
  },
  {
   "cell_type": "code",
   "execution_count": 26,
   "id": "da36e492",
   "metadata": {},
   "outputs": [],
   "source": [
    "file = open('hello.txt', 'w')"
   ]
  },
  {
   "cell_type": "code",
   "execution_count": 27,
   "id": "c6f787e6",
   "metadata": {},
   "outputs": [
    {
     "data": {
      "text/plain": [
       "26"
      ]
     },
     "execution_count": 27,
     "metadata": {},
     "output_type": "execute_result"
    }
   ],
   "source": [
    "file.write('Hello Python\\nI am Anaconda')"
   ]
  },
  {
   "cell_type": "code",
   "execution_count": 28,
   "id": "7d5f7170",
   "metadata": {},
   "outputs": [],
   "source": [
    "file.close()"
   ]
  },
  {
   "cell_type": "code",
   "execution_count": 29,
   "id": "1f0bda1e",
   "metadata": {},
   "outputs": [
    {
     "data": {
      "text/plain": [
       "True"
      ]
     },
     "execution_count": 29,
     "metadata": {},
     "output_type": "execute_result"
    }
   ],
   "source": [
    "file.closed"
   ]
  },
  {
   "cell_type": "code",
   "execution_count": 30,
   "id": "7d3d887e",
   "metadata": {},
   "outputs": [],
   "source": [
    "file_append = open('hello.txt', 'a')"
   ]
  },
  {
   "cell_type": "code",
   "execution_count": 31,
   "id": "ef98747c",
   "metadata": {},
   "outputs": [
    {
     "data": {
      "text/plain": [
       "28"
      ]
     },
     "execution_count": 31,
     "metadata": {},
     "output_type": "execute_result"
    }
   ],
   "source": [
    "file_append.write('\\nI am writing in append mode')"
   ]
  },
  {
   "cell_type": "code",
   "execution_count": 32,
   "id": "3955be63",
   "metadata": {},
   "outputs": [],
   "source": [
    "file_append.close()"
   ]
  },
  {
   "cell_type": "code",
   "execution_count": null,
   "id": "f276e07e",
   "metadata": {},
   "outputs": [],
   "source": []
  },
  {
   "cell_type": "code",
   "execution_count": 49,
   "id": "18af84a5",
   "metadata": {},
   "outputs": [],
   "source": [
    "file = open('hello.txt')"
   ]
  },
  {
   "cell_type": "code",
   "execution_count": 34,
   "id": "f37ef3e4",
   "metadata": {},
   "outputs": [
    {
     "data": {
      "text/plain": [
       "'Hello Python\\nI am Anaconda\\nI am writing in append mode'"
      ]
     },
     "execution_count": 34,
     "metadata": {},
     "output_type": "execute_result"
    }
   ],
   "source": [
    "file.read()"
   ]
  },
  {
   "cell_type": "code",
   "execution_count": 36,
   "id": "a3712d29",
   "metadata": {},
   "outputs": [
    {
     "data": {
      "text/plain": [
       "''"
      ]
     },
     "execution_count": 36,
     "metadata": {},
     "output_type": "execute_result"
    }
   ],
   "source": [
    "file.read()  #we have to close previous file read agent"
   ]
  },
  {
   "cell_type": "code",
   "execution_count": 47,
   "id": "5c598fe0",
   "metadata": {},
   "outputs": [],
   "source": [
    "file.close()"
   ]
  },
  {
   "cell_type": "code",
   "execution_count": 50,
   "id": "1db6d3f6",
   "metadata": {},
   "outputs": [
    {
     "data": {
      "text/plain": [
       "'Hello Python\\n'"
      ]
     },
     "execution_count": 50,
     "metadata": {},
     "output_type": "execute_result"
    }
   ],
   "source": [
    "file.readline()"
   ]
  },
  {
   "cell_type": "code",
   "execution_count": 51,
   "id": "e7b0e306",
   "metadata": {},
   "outputs": [
    {
     "data": {
      "text/plain": [
       "['I am Anaconda\\n', 'I am writing in append mode']"
      ]
     },
     "execution_count": 51,
     "metadata": {},
     "output_type": "execute_result"
    }
   ],
   "source": [
    "file.readlines()"
   ]
  },
  {
   "cell_type": "markdown",
   "id": "17557ff4",
   "metadata": {},
   "source": [
    "### Copying and moving file"
   ]
  },
  {
   "cell_type": "code",
   "execution_count": 52,
   "id": "26116d2c",
   "metadata": {},
   "outputs": [],
   "source": [
    "os.chdir('copy-move')"
   ]
  },
  {
   "cell_type": "code",
   "execution_count": 53,
   "id": "ee338cc1",
   "metadata": {},
   "outputs": [
    {
     "data": {
      "text/plain": [
       "'/Volumes/GoogleDrive-109653845932847665469/My Drive/Projects/Web Scraping/Python-Automation/copy-move'"
      ]
     },
     "execution_count": 53,
     "metadata": {},
     "output_type": "execute_result"
    }
   ],
   "source": [
    "os.getcwd()"
   ]
  },
  {
   "cell_type": "code",
   "execution_count": 54,
   "id": "214f988e",
   "metadata": {},
   "outputs": [],
   "source": [
    "import shutil"
   ]
  },
  {
   "cell_type": "code",
   "execution_count": 55,
   "id": "80cf0872",
   "metadata": {},
   "outputs": [
    {
     "data": {
      "text/plain": [
       "'to/hello.txt'"
      ]
     },
     "execution_count": 55,
     "metadata": {},
     "output_type": "execute_result"
    }
   ],
   "source": [
    "shutil.copy('from/hello.txt', 'to')"
   ]
  },
  {
   "cell_type": "code",
   "execution_count": 56,
   "id": "c6e5bac2",
   "metadata": {},
   "outputs": [
    {
     "data": {
      "text/plain": [
       "'to/hello-new.txt'"
      ]
     },
     "execution_count": 56,
     "metadata": {},
     "output_type": "execute_result"
    }
   ],
   "source": [
    "shutil.copy('from/hello.txt', 'to/hello-new.txt')"
   ]
  },
  {
   "cell_type": "code",
   "execution_count": 57,
   "id": "1bfd13f0",
   "metadata": {},
   "outputs": [
    {
     "data": {
      "text/plain": [
       "'new-from'"
      ]
     },
     "execution_count": 57,
     "metadata": {},
     "output_type": "execute_result"
    }
   ],
   "source": [
    "shutil.copytree('from', 'new-from')"
   ]
  },
  {
   "cell_type": "code",
   "execution_count": 58,
   "id": "26c32e7c",
   "metadata": {},
   "outputs": [
    {
     "data": {
      "text/plain": [
       "'./hello.txt'"
      ]
     },
     "execution_count": 58,
     "metadata": {},
     "output_type": "execute_result"
    }
   ],
   "source": [
    "shutil.move('from/hello.txt', '.')"
   ]
  },
  {
   "cell_type": "code",
   "execution_count": null,
   "id": "93e70316",
   "metadata": {},
   "outputs": [],
   "source": [
    "shutil.move('to/hello.txt', '.')"
   ]
  }
 ],
 "metadata": {
  "kernelspec": {
   "display_name": "Python 3 (ipykernel)",
   "language": "python",
   "name": "python3"
  },
  "language_info": {
   "codemirror_mode": {
    "name": "ipython",
    "version": 3
   },
   "file_extension": ".py",
   "mimetype": "text/x-python",
   "name": "python",
   "nbconvert_exporter": "python",
   "pygments_lexer": "ipython3",
   "version": "3.9.7"
  }
 },
 "nbformat": 4,
 "nbformat_minor": 5
}
