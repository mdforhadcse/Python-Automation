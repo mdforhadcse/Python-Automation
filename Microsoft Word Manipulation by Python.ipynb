{
 "cells": [
  {
   "cell_type": "markdown",
   "id": "84908077",
   "metadata": {},
   "source": [
    "### Reading document"
   ]
  },
  {
   "cell_type": "code",
   "execution_count": 14,
   "id": "518e67bd",
   "metadata": {},
   "outputs": [],
   "source": [
    "import docx"
   ]
  },
  {
   "cell_type": "code",
   "execution_count": 15,
   "id": "d5f3dd7c",
   "metadata": {},
   "outputs": [],
   "source": [
    "doc = docx.Document('sample.docx')"
   ]
  },
  {
   "cell_type": "code",
   "execution_count": 16,
   "id": "011deaca",
   "metadata": {},
   "outputs": [
    {
     "data": {
      "text/plain": [
       "docx.document.Document"
      ]
     },
     "execution_count": 16,
     "metadata": {},
     "output_type": "execute_result"
    }
   ],
   "source": [
    "type(doc)"
   ]
  },
  {
   "cell_type": "code",
   "execution_count": 17,
   "id": "93cb0e75",
   "metadata": {},
   "outputs": [
    {
     "data": {
      "text/plain": [
       "[<docx.text.paragraph.Paragraph at 0x7fdf092168e0>,\n",
       " <docx.text.paragraph.Paragraph at 0x7fdf09216700>,\n",
       " <docx.text.paragraph.Paragraph at 0x7fdf09216850>,\n",
       " <docx.text.paragraph.Paragraph at 0x7fdf09216910>,\n",
       " <docx.text.paragraph.Paragraph at 0x7fdf09216250>,\n",
       " <docx.text.paragraph.Paragraph at 0x7fdf09216880>,\n",
       " <docx.text.paragraph.Paragraph at 0x7fdf09216b20>,\n",
       " <docx.text.paragraph.Paragraph at 0x7fdf09216190>]"
      ]
     },
     "execution_count": 17,
     "metadata": {},
     "output_type": "execute_result"
    }
   ],
   "source": [
    "doc.paragraphs"
   ]
  },
  {
   "cell_type": "code",
   "execution_count": 18,
   "id": "2e872faf",
   "metadata": {},
   "outputs": [
    {
     "data": {
      "text/plain": [
       "8"
      ]
     },
     "execution_count": 18,
     "metadata": {},
     "output_type": "execute_result"
    }
   ],
   "source": [
    "len(doc.paragraphs)"
   ]
  },
  {
   "cell_type": "code",
   "execution_count": 12,
   "id": "e2c4b350",
   "metadata": {},
   "outputs": [
    {
     "data": {
      "text/plain": [
       "'3rd item in list'"
      ]
     },
     "execution_count": 12,
     "metadata": {},
     "output_type": "execute_result"
    }
   ],
   "source": [
    "doc.paragraphs[7].text"
   ]
  },
  {
   "cell_type": "code",
   "execution_count": 19,
   "id": "dbf9a3f2",
   "metadata": {},
   "outputs": [
    {
     "data": {
      "text/plain": [
       "[<docx.text.run.Run at 0x7fdf09216430>,\n",
       " <docx.text.run.Run at 0x7fdf092165b0>,\n",
       " <docx.text.run.Run at 0x7fdf09216730>,\n",
       " <docx.text.run.Run at 0x7fdf09216820>,\n",
       " <docx.text.run.Run at 0x7fdf092161c0>,\n",
       " <docx.text.run.Run at 0x7fdf09216670>]"
      ]
     },
     "execution_count": 19,
     "metadata": {},
     "output_type": "execute_result"
    }
   ],
   "source": [
    "doc.paragraphs[1].runs"
   ]
  },
  {
   "cell_type": "code",
   "execution_count": 30,
   "id": "5989bbc7",
   "metadata": {},
   "outputs": [
    {
     "data": {
      "text/plain": [
       "'This is first paragraph'"
      ]
     },
     "execution_count": 30,
     "metadata": {},
     "output_type": "execute_result"
    }
   ],
   "source": [
    "doc.paragraphs[1].runs[0].text"
   ]
  },
  {
   "cell_type": "code",
   "execution_count": 44,
   "id": "3102dc0a",
   "metadata": {},
   "outputs": [
    {
     "name": "stdout",
     "output_type": "stream",
     "text": [
      "This is Title of Document \n",
      "This is first paragraph some bold and some italic text\n",
      "Heading, level 1\n",
      "Taking no risk is the biggest risk in life\n",
      "first item in  list\n",
      "first item in  list\n",
      "second item in list\n",
      "3rd item in list\n"
     ]
    }
   ],
   "source": [
    "for text in range(len(doc.paragraphs)):\n",
    "    print(doc.paragraphs[text].text)"
   ]
  },
  {
   "cell_type": "markdown",
   "id": "8e777d8d",
   "metadata": {},
   "source": [
    "### Create and Write to .docx file"
   ]
  },
  {
   "cell_type": "code",
   "execution_count": 45,
   "id": "13fb878f",
   "metadata": {},
   "outputs": [],
   "source": [
    "new = docx.Document()"
   ]
  },
  {
   "cell_type": "code",
   "execution_count": 46,
   "id": "ae92a2ec",
   "metadata": {},
   "outputs": [],
   "source": [
    "new.save('New.docx')"
   ]
  },
  {
   "cell_type": "code",
   "execution_count": 47,
   "id": "2e950c44",
   "metadata": {},
   "outputs": [
    {
     "data": {
      "text/plain": [
       "<docx.text.paragraph.Paragraph at 0x7fdf090d0b80>"
      ]
     },
     "execution_count": 47,
     "metadata": {},
     "output_type": "execute_result"
    }
   ],
   "source": [
    "new.add_heading('Heading0', 0)\n",
    "new.add_heading('Heading1', 1)"
   ]
  },
  {
   "cell_type": "code",
   "execution_count": 48,
   "id": "34ffd04e",
   "metadata": {},
   "outputs": [],
   "source": [
    "new.save('New.docx')"
   ]
  },
  {
   "cell_type": "code",
   "execution_count": 51,
   "id": "c8a8579e",
   "metadata": {},
   "outputs": [],
   "source": [
    "para = new.add_paragraph('hello world')"
   ]
  },
  {
   "cell_type": "code",
   "execution_count": 52,
   "id": "a3687736",
   "metadata": {},
   "outputs": [
    {
     "data": {
      "text/plain": [
       "<docx.text.run.Run at 0x7fdf093e21c0>"
      ]
     },
     "execution_count": 52,
     "metadata": {},
     "output_type": "execute_result"
    }
   ],
   "source": [
    "para.add_run('Udemy - Student')"
   ]
  },
  {
   "cell_type": "code",
   "execution_count": 53,
   "id": "60f5c0e6",
   "metadata": {},
   "outputs": [],
   "source": [
    "new.save('New.docx')"
   ]
  },
  {
   "cell_type": "code",
   "execution_count": 55,
   "id": "6375d34a",
   "metadata": {},
   "outputs": [],
   "source": [
    "para.runs[0].underline = True"
   ]
  },
  {
   "cell_type": "code",
   "execution_count": 57,
   "id": "7cf49766",
   "metadata": {},
   "outputs": [],
   "source": [
    "new.save('New.docx')"
   ]
  },
  {
   "cell_type": "code",
   "execution_count": null,
   "id": "9cfe2cf6",
   "metadata": {},
   "outputs": [],
   "source": []
  }
 ],
 "metadata": {
  "kernelspec": {
   "display_name": "Python 3 (ipykernel)",
   "language": "python",
   "name": "python3"
  },
  "language_info": {
   "codemirror_mode": {
    "name": "ipython",
    "version": 3
   },
   "file_extension": ".py",
   "mimetype": "text/x-python",
   "name": "python",
   "nbconvert_exporter": "python",
   "pygments_lexer": "ipython3",
   "version": "3.9.7"
  }
 },
 "nbformat": 4,
 "nbformat_minor": 5
}
