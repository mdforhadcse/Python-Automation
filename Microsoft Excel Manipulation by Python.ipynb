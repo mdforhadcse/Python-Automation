{
 "cells": [
  {
   "cell_type": "code",
   "execution_count": 4,
   "id": "f6a358ef",
   "metadata": {},
   "outputs": [],
   "source": [
    "import openpyxl\n",
    "import os"
   ]
  },
  {
   "cell_type": "markdown",
   "id": "54d0e786",
   "metadata": {},
   "source": [
    "### Loading excel work book\n"
   ]
  },
  {
   "cell_type": "code",
   "execution_count": 7,
   "id": "6c8c428c",
   "metadata": {},
   "outputs": [],
   "source": [
    "wb = openpyxl.load_workbook('sales.xlsx')"
   ]
  },
  {
   "cell_type": "code",
   "execution_count": 10,
   "id": "9dc4d100",
   "metadata": {},
   "outputs": [
    {
     "data": {
      "text/plain": [
       "<Worksheet \"Sales\">"
      ]
     },
     "execution_count": 10,
     "metadata": {},
     "output_type": "execute_result"
    }
   ],
   "source": [
    "wb.active"
   ]
  },
  {
   "cell_type": "markdown",
   "id": "efbc7be3",
   "metadata": {},
   "source": [
    "### Selecting work sheet"
   ]
  },
  {
   "cell_type": "code",
   "execution_count": 16,
   "id": "552f92a6",
   "metadata": {},
   "outputs": [],
   "source": [
    "userSheet = wb['Users']"
   ]
  },
  {
   "cell_type": "code",
   "execution_count": 17,
   "id": "d377b9c9",
   "metadata": {},
   "outputs": [
    {
     "data": {
      "text/plain": [
       "<Worksheet \"Users\">"
      ]
     },
     "execution_count": 17,
     "metadata": {},
     "output_type": "execute_result"
    }
   ],
   "source": [
    "userSheet"
   ]
  },
  {
   "cell_type": "code",
   "execution_count": 18,
   "id": "955dbac3",
   "metadata": {},
   "outputs": [],
   "source": [
    "salesSheet = wb['Sales']"
   ]
  },
  {
   "cell_type": "markdown",
   "id": "b147c376",
   "metadata": {},
   "source": [
    "### Create or delete worksheet"
   ]
  },
  {
   "cell_type": "code",
   "execution_count": 35,
   "id": "2ffe1563",
   "metadata": {},
   "outputs": [
    {
     "data": {
      "text/plain": [
       "['Users', 'Sales']"
      ]
     },
     "execution_count": 35,
     "metadata": {},
     "output_type": "execute_result"
    }
   ],
   "source": [
    "wb.sheetnames"
   ]
  },
  {
   "cell_type": "code",
   "execution_count": 36,
   "id": "ca8cbec9",
   "metadata": {},
   "outputs": [],
   "source": [
    "newSheet = wb.create_sheet('newsheet')"
   ]
  },
  {
   "cell_type": "code",
   "execution_count": 37,
   "id": "af82a293",
   "metadata": {},
   "outputs": [
    {
     "data": {
      "text/plain": [
       "['Users', 'Sales', 'newsheet']"
      ]
     },
     "execution_count": 37,
     "metadata": {},
     "output_type": "execute_result"
    }
   ],
   "source": [
    "wb.sheetnames"
   ]
  },
  {
   "cell_type": "code",
   "execution_count": 44,
   "id": "1c5b329c",
   "metadata": {},
   "outputs": [],
   "source": [
    "wb.save('sales.xlsx') #without this changes not reflect"
   ]
  },
  {
   "cell_type": "code",
   "execution_count": 42,
   "id": "bdd3de10",
   "metadata": {},
   "outputs": [],
   "source": [
    "del wb['newsheet'] "
   ]
  },
  {
   "cell_type": "code",
   "execution_count": 43,
   "id": "8250bab1",
   "metadata": {},
   "outputs": [
    {
     "data": {
      "text/plain": [
       "['Users', 'Sales']"
      ]
     },
     "execution_count": 43,
     "metadata": {},
     "output_type": "execute_result"
    }
   ],
   "source": [
    "wb.sheetnames"
   ]
  },
  {
   "cell_type": "code",
   "execution_count": 45,
   "id": "a9cb6b6a",
   "metadata": {},
   "outputs": [],
   "source": [
    "wb.save('sales.xlsx')"
   ]
  },
  {
   "cell_type": "markdown",
   "id": "881b8f0e",
   "metadata": {},
   "source": [
    "### Properties of worksheet"
   ]
  },
  {
   "cell_type": "code",
   "execution_count": 46,
   "id": "6b80dd70",
   "metadata": {},
   "outputs": [],
   "source": [
    "userSheet = wb['Users']"
   ]
  },
  {
   "cell_type": "code",
   "execution_count": 47,
   "id": "364656ba",
   "metadata": {},
   "outputs": [
    {
     "data": {
      "text/plain": [
       "11"
      ]
     },
     "execution_count": 47,
     "metadata": {},
     "output_type": "execute_result"
    }
   ],
   "source": [
    "userSheet.max_row"
   ]
  },
  {
   "cell_type": "code",
   "execution_count": 48,
   "id": "9a231ada",
   "metadata": {},
   "outputs": [
    {
     "data": {
      "text/plain": [
       "1"
      ]
     },
     "execution_count": 48,
     "metadata": {},
     "output_type": "execute_result"
    }
   ],
   "source": [
    "userSheet.min_row"
   ]
  },
  {
   "cell_type": "code",
   "execution_count": 49,
   "id": "2d7d3162",
   "metadata": {},
   "outputs": [
    {
     "data": {
      "text/plain": [
       "'utf-8'"
      ]
     },
     "execution_count": 49,
     "metadata": {},
     "output_type": "execute_result"
    }
   ],
   "source": [
    "userSheet.encoding"
   ]
  },
  {
   "cell_type": "code",
   "execution_count": 50,
   "id": "2a19d621",
   "metadata": {},
   "outputs": [
    {
     "data": {
      "text/plain": [
       "'A1:C11'"
      ]
     },
     "execution_count": 50,
     "metadata": {},
     "output_type": "execute_result"
    }
   ],
   "source": [
    "userSheet.dimensions"
   ]
  },
  {
   "cell_type": "code",
   "execution_count": 51,
   "id": "eece47b9",
   "metadata": {},
   "outputs": [
    {
     "data": {
      "text/plain": [
       "{(1, 1): <Cell 'Users'.A1>,\n",
       " (1, 2): <Cell 'Users'.B1>,\n",
       " (1, 3): <Cell 'Users'.C1>,\n",
       " (2, 1): <Cell 'Users'.A2>,\n",
       " (2, 2): <Cell 'Users'.B2>,\n",
       " (2, 3): <Cell 'Users'.C2>,\n",
       " (3, 1): <Cell 'Users'.A3>,\n",
       " (3, 2): <Cell 'Users'.B3>,\n",
       " (3, 3): <Cell 'Users'.C3>,\n",
       " (4, 1): <Cell 'Users'.A4>,\n",
       " (4, 2): <Cell 'Users'.B4>,\n",
       " (4, 3): <Cell 'Users'.C4>,\n",
       " (5, 1): <Cell 'Users'.A5>,\n",
       " (5, 2): <Cell 'Users'.B5>,\n",
       " (5, 3): <Cell 'Users'.C5>,\n",
       " (6, 1): <Cell 'Users'.A6>,\n",
       " (6, 2): <Cell 'Users'.B6>,\n",
       " (6, 3): <Cell 'Users'.C6>,\n",
       " (7, 1): <Cell 'Users'.A7>,\n",
       " (7, 2): <Cell 'Users'.B7>,\n",
       " (7, 3): <Cell 'Users'.C7>,\n",
       " (8, 1): <Cell 'Users'.A8>,\n",
       " (8, 2): <Cell 'Users'.B8>,\n",
       " (8, 3): <Cell 'Users'.C8>,\n",
       " (9, 1): <Cell 'Users'.A9>,\n",
       " (9, 2): <Cell 'Users'.B9>,\n",
       " (9, 3): <Cell 'Users'.C9>,\n",
       " (10, 1): <Cell 'Users'.A10>,\n",
       " (10, 2): <Cell 'Users'.B10>,\n",
       " (10, 3): <Cell 'Users'.C10>,\n",
       " (11, 1): <Cell 'Users'.A11>,\n",
       " (11, 2): <Cell 'Users'.B11>,\n",
       " (11, 3): <Cell 'Users'.C11>}"
      ]
     },
     "execution_count": 51,
     "metadata": {},
     "output_type": "execute_result"
    }
   ],
   "source": [
    "userSheet._cells"
   ]
  },
  {
   "cell_type": "markdown",
   "id": "376951d2",
   "metadata": {},
   "source": [
    "### Read Cell"
   ]
  },
  {
   "cell_type": "code",
   "execution_count": 52,
   "id": "bcdf8722",
   "metadata": {},
   "outputs": [
    {
     "data": {
      "text/plain": [
       "<Worksheet \"Users\">"
      ]
     },
     "execution_count": 52,
     "metadata": {},
     "output_type": "execute_result"
    }
   ],
   "source": [
    "userSheet"
   ]
  },
  {
   "cell_type": "code",
   "execution_count": 57,
   "id": "879ae53d",
   "metadata": {},
   "outputs": [
    {
     "data": {
      "text/plain": [
       "'Roy Collins'"
      ]
     },
     "execution_count": 57,
     "metadata": {},
     "output_type": "execute_result"
    }
   ],
   "source": [
    "userSheet['B5'].value"
   ]
  },
  {
   "cell_type": "code",
   "execution_count": 61,
   "id": "54b5b389",
   "metadata": {},
   "outputs": [
    {
     "data": {
      "text/plain": [
       "12"
      ]
     },
     "execution_count": 61,
     "metadata": {},
     "output_type": "execute_result"
    }
   ],
   "source": [
    "userSheet['c4'].value"
   ]
  },
  {
   "cell_type": "code",
   "execution_count": 63,
   "id": "23155d1f",
   "metadata": {},
   "outputs": [
    {
     "name": "stdout",
     "output_type": "stream",
     "text": [
      "UserId\n",
      "1\n",
      "2\n",
      "3\n",
      "4\n",
      "5\n",
      "6\n",
      "7\n",
      "8\n",
      "9\n",
      "10\n"
     ]
    }
   ],
   "source": [
    "for row in userSheet.rows:\n",
    "    print(row[0].value)"
   ]
  },
  {
   "cell_type": "code",
   "execution_count": 64,
   "id": "d840fa5f",
   "metadata": {},
   "outputs": [
    {
     "name": "stdout",
     "output_type": "stream",
     "text": [
      "UserId name Total\n",
      "1 Adam Jenkins 45\n",
      "2 Ryan Moore 12\n",
      "3 Henry Edwards 12\n",
      "4 Roy Collins 2\n",
      "5 Brian Cook 18\n",
      "6 Michelle Thomas 9\n",
      "7 Kevin Ward 28\n",
      "8 Katherine Scott 8\n",
      "9 Carol Gray 9\n",
      "10 Jean Campbell 7\n"
     ]
    }
   ],
   "source": [
    "for row in userSheet.rows:\n",
    "    print(row[0].value, row[1].value, row[2].value)"
   ]
  },
  {
   "cell_type": "markdown",
   "id": "bfb24c09",
   "metadata": {},
   "source": [
    "### Write, Modify cell"
   ]
  },
  {
   "cell_type": "code",
   "execution_count": 73,
   "id": "4d9eee3f",
   "metadata": {},
   "outputs": [
    {
     "data": {
      "text/plain": [
       "<Worksheet \"Users\">"
      ]
     },
     "execution_count": 73,
     "metadata": {},
     "output_type": "execute_result"
    }
   ],
   "source": [
    "userSheet"
   ]
  },
  {
   "cell_type": "code",
   "execution_count": 74,
   "id": "3fb09ae6",
   "metadata": {},
   "outputs": [],
   "source": [
    "userSheet['C11'] = '9'"
   ]
  },
  {
   "cell_type": "code",
   "execution_count": 77,
   "id": "0a2806bd",
   "metadata": {},
   "outputs": [],
   "source": [
    "wb.save('sales.xlsx')"
   ]
  },
  {
   "cell_type": "code",
   "execution_count": 80,
   "id": "658ae086",
   "metadata": {},
   "outputs": [],
   "source": [
    "userSheet['D1'] = 'new total'"
   ]
  },
  {
   "cell_type": "code",
   "execution_count": 78,
   "id": "9acdf260",
   "metadata": {},
   "outputs": [],
   "source": [
    "for i in range(2,12):\n",
    "    userSheet['D'+str(i)] = int(userSheet['C'+str(i)].value)+5"
   ]
  },
  {
   "cell_type": "code",
   "execution_count": 82,
   "id": "4fe5baa6",
   "metadata": {},
   "outputs": [],
   "source": [
    "wb.save('sales.xlsx')"
   ]
  },
  {
   "cell_type": "markdown",
   "id": "0d1a21e5",
   "metadata": {},
   "source": [
    "### Add formula"
   ]
  },
  {
   "cell_type": "code",
   "execution_count": 83,
   "id": "ee8d1609",
   "metadata": {},
   "outputs": [],
   "source": [
    "userSheet['D12'] = '=SUM(D2:D11)'"
   ]
  },
  {
   "cell_type": "code",
   "execution_count": 84,
   "id": "0d1f7b06",
   "metadata": {},
   "outputs": [],
   "source": [
    "wb.save('sales.xlsx')"
   ]
  },
  {
   "cell_type": "markdown",
   "id": "6775888c",
   "metadata": {},
   "source": [
    "### Add image to the cell"
   ]
  },
  {
   "cell_type": "code",
   "execution_count": 85,
   "id": "3cb6b5a2",
   "metadata": {},
   "outputs": [],
   "source": [
    "from openpyxl.drawing.image import Image"
   ]
  },
  {
   "cell_type": "code",
   "execution_count": null,
   "id": "5efe35ff",
   "metadata": {},
   "outputs": [],
   "source": [
    "image1 = Image('image1.png')\n",
    "image2 = = Image('image2.png')"
   ]
  },
  {
   "cell_type": "code",
   "execution_count": null,
   "id": "48d3f11a",
   "metadata": {},
   "outputs": [],
   "source": [
    "userSheet.add_image(image1, 'A14')\n",
    "userSheet.add_image(image2, 'F14')"
   ]
  },
  {
   "cell_type": "code",
   "execution_count": null,
   "id": "f52909f3",
   "metadata": {},
   "outputs": [],
   "source": [
    "wb.save('sales.xlsx')"
   ]
  },
  {
   "cell_type": "markdown",
   "id": "e754707d",
   "metadata": {},
   "source": [
    "### Marge and unmarge cell"
   ]
  },
  {
   "cell_type": "code",
   "execution_count": 88,
   "id": "e207be21",
   "metadata": {},
   "outputs": [],
   "source": [
    "userSheet.merge_cells('B16:C16')"
   ]
  },
  {
   "cell_type": "code",
   "execution_count": null,
   "id": "84a95312",
   "metadata": {},
   "outputs": [],
   "source": [
    "wb.save('sales.xlsx')"
   ]
  },
  {
   "cell_type": "code",
   "execution_count": null,
   "id": "9b4fec20",
   "metadata": {},
   "outputs": [],
   "source": [
    "userSheet.unmerge_cells('B16:C16')"
   ]
  },
  {
   "cell_type": "code",
   "execution_count": null,
   "id": "62320764",
   "metadata": {},
   "outputs": [],
   "source": [
    "wb.save('sales.xlsx')"
   ]
  },
  {
   "cell_type": "markdown",
   "id": "e0472431",
   "metadata": {},
   "source": [
    "###### also can be added different type of charts, filter"
   ]
  },
  {
   "cell_type": "code",
   "execution_count": null,
   "id": "d4625270",
   "metadata": {},
   "outputs": [],
   "source": []
  }
 ],
 "metadata": {
  "kernelspec": {
   "display_name": "Python 3 (ipykernel)",
   "language": "python",
   "name": "python3"
  },
  "language_info": {
   "codemirror_mode": {
    "name": "ipython",
    "version": 3
   },
   "file_extension": ".py",
   "mimetype": "text/x-python",
   "name": "python",
   "nbconvert_exporter": "python",
   "pygments_lexer": "ipython3",
   "version": "3.9.7"
  }
 },
 "nbformat": 4,
 "nbformat_minor": 5
}
